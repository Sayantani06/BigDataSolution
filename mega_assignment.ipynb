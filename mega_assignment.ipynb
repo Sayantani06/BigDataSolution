{
 "cells": [
  {
   "cell_type": "code",
   "execution_count": null,
   "id": "9abd22b1",
   "metadata": {},
   "outputs": [],
   "source": [
    "#Q25. Write a program to display only those numbers from a list that satisfy the following conditions\n",
    "#The number must be divisible by five\n",
    "#If the number is greater than 150, then skip it and move to the next number\n",
    "#If the number is greater than 500, then stop the loop\n",
    "#numbers = [12, 75, 150, 180, 145, 525, 50]\n",
    "number= [12,75,150,180,145,525,50]\n",
    "for i in number:\n",
    "    if i%5 == 0:\n",
    "        if i>150:\n",
    "            continue\n",
    "        elif i>500:\n",
    "            break\n",
    "        print(i)"
   ]
  },
  {
   "cell_type": "markdown",
   "id": "adb3e2c4",
   "metadata": {},
   "source": [
    "Q26. What is a string? How can we declare string in Python?\n",
    "String is a variable which consist is a group of characters. For declaring strings  a = \" \".(empty string). a=\"sayantani\"."
   ]
  },
  {
   "cell_type": "markdown",
   "id": "2c923885",
   "metadata": {},
   "source": [
    "Q27. How can we access the string using its index?\n",
    "\n",
    "Ans- For accessing the string using index For eg. a=\"Sayantani\"\n",
    "a[0] will give S."
   ]
  },
  {
   "cell_type": "code",
   "execution_count": 1,
   "id": "b1f1ab1a",
   "metadata": {},
   "outputs": [
    {
     "name": "stdout",
     "output_type": "stream",
     "text": [
      "iNeuron\n"
     ]
    }
   ],
   "source": [
    "#Q28. Write a code to get the desired output of the following\n",
    "#string = \"Big Data iNeuron\"\n",
    "#desired_output = \"iNeuron\"\n",
    "\n",
    "str1=\"Big Data iNeuron\"\n",
    "print(str1[9::])\n"
   ]
  },
  {
   "cell_type": "code",
   "execution_count": 15,
   "id": "9d5fb292",
   "metadata": {},
   "outputs": [
    {
     "name": "stdout",
     "output_type": "stream",
     "text": [
      "norueNi\n"
     ]
    }
   ],
   "source": [
    "#Q29. Write a code to get the desired output of the following\n",
    "#desired_output = \"norueNi\"\n",
    "string = \"Big Data iNeuron\"\n",
    "print(string[-1:-8:-1])"
   ]
  },
  {
   "cell_type": "code",
   "execution_count": 17,
   "id": "48ff61fb",
   "metadata": {},
   "outputs": [
    {
     "name": "stdout",
     "output_type": "stream",
     "text": [
      "norueNi ataD giB\n"
     ]
    }
   ],
   "source": [
    "#Q30. Resverse the string given in the above question.\n",
    "string = \"Big Data iNeuron\"\n",
    "print(string[::-1])"
   ]
  },
  {
   "cell_type": "markdown",
   "id": "2598d51a",
   "metadata": {},
   "source": [
    "#Q31. How can you delete entire string at once?\n",
    "string = \"Big Data iNeuron\"\n",
    "del string\n",
    "print(string)"
   ]
  },
  {
   "cell_type": "markdown",
   "id": "72a9d2f2",
   "metadata": {},
   "source": [
    "#Q32. What is escape sequence?\n",
    "Ans-An escape character is a backslash \\ followed by the character you want to insert.\n",
    "txt = \"We are the so-called \"Vikings\" from the north.\" will give error.\n",
    "txt = \"We are the so-called \\\"Vikings\\\" from the north.\" will fix the error.\n"
   ]
  },
  {
   "cell_type": "code",
   "execution_count": 20,
   "id": "d6ba27c1",
   "metadata": {},
   "outputs": [
    {
     "name": "stdout",
     "output_type": "stream",
     "text": [
      "iNeuron's Big Data Course\n"
     ]
    }
   ],
   "source": [
    "#Q33. How can you print the below string?\n",
    "\n",
    "#'iNeuron's Big Data Course'\n",
    "\n",
    "txt='iNeuron\\'s Big Data Course'\n",
    "print(txt)\n"
   ]
  },
  {
   "cell_type": "markdown",
   "id": "091b92e5",
   "metadata": {},
   "source": [
    "#Q34. What is a list in Python?\n",
    "Lists are used to store multiple items in a single variable.\n",
    "\n",
    "Lists are one of 4 built-in data types in Python used to store collections of data, the other 3 are Tuple, Set, and Dictionary, all with different qualities and usage.\n"
   ]
  },
  {
   "cell_type": "markdown",
   "id": "93fc94a0",
   "metadata": {},
   "source": [
    "#Q35. How can you create a list in Python?\n",
    "For creating a empty list: list1=[]\n",
    "For creating a list : list1=[1,3,6,7,8,9]"
   ]
  },
  {
   "cell_type": "code",
   "execution_count": 21,
   "id": "23a6165a",
   "metadata": {},
   "outputs": [
    {
     "name": "stdout",
     "output_type": "stream",
     "text": [
      "1\n"
     ]
    }
   ],
   "source": [
    "#Q36. How can we access the elements in a list?\n",
    "list1=[1,3,6,7,8,9]\n",
    "print(list1[0])\n"
   ]
  },
  {
   "cell_type": "code",
   "execution_count": 25,
   "id": "590d6d39",
   "metadata": {},
   "outputs": [
    {
     "name": "stdout",
     "output_type": "stream",
     "text": [
      "iNeuron\n"
     ]
    }
   ],
   "source": [
    "#Q37. Write a code to access the word \"iNeuron\" from the given list.\n",
    "\n",
    "lst = [1,2,3,\"Hi\",[45,54, \"iNeuron\"], \"Big Data\"]\n",
    "temp= lst[4]\n",
    "print(temp[2])"
   ]
  },
  {
   "cell_type": "code",
   "execution_count": 31,
   "id": "012c148d",
   "metadata": {},
   "outputs": [
    {
     "name": "stdout",
     "output_type": "stream",
     "text": [
      "Enter the range :16\n",
      "[0, 1, 2, 3, 4, 5, 6, 7, 8, 9, 10, 11, 12, 13, 14, 15]\n",
      "16\n"
     ]
    }
   ],
   "source": [
    "#Q38. Take a list as an input from the user and find the length of the list.\n",
    "\n",
    "list1= []\n",
    "total_num= int(input('Enter the range :'))\n",
    "for i in range(0,total_num):\n",
    "    list1.append(i)\n",
    "length=len(list1)\n",
    "print(list1)\n",
    "print(length)"
   ]
  },
  {
   "cell_type": "code",
   "execution_count": 29,
   "id": "68681c1d",
   "metadata": {},
   "outputs": [
    {
     "name": "stdout",
     "output_type": "stream",
     "text": [
      "Enter the range :15\n",
      "[13, 9, 11, 6, 7, 15, 11, 0, 6, 1, 1, 9, 5, 1, 15]\n"
     ]
    }
   ],
   "source": [
    "#Q38. Take a list as an input from the user and find the length of the list.\n",
    "import random\n",
    "list1= []\n",
    "total_num= int(input('Enter the range :'))\n",
    "for i in range(0,total_num):\n",
    "    list1.append(random.randint(0,total_num))\n",
    "print(list1)\n"
   ]
  },
  {
   "cell_type": "code",
   "execution_count": 34,
   "id": "972c9c76",
   "metadata": {},
   "outputs": [
    {
     "name": "stdout",
     "output_type": "stream",
     "text": [
      "['Welcome', 'to', 'Big', 'Data', 'course']\n"
     ]
    }
   ],
   "source": [
    "#Q39. Add the word \"Big\" in the 3rd index of the given list.\n",
    "\n",
    "lst = [\"Welcome\", \"to\", \"Data\", \"course\"]\n",
    "lst.insert(2,\"Big\")\n",
    "print(lst)"
   ]
  },
  {
   "cell_type": "markdown",
   "id": "e6207281",
   "metadata": {},
   "source": [
    "#Q40. What is a tuple? How is it different from list?\n",
    "A tuple is a collection which is ordered and unchangeable. \n",
    "Tuple is immuatable where list is mutable.\n"
   ]
  },
  {
   "cell_type": "markdown",
   "id": "a6180737",
   "metadata": {},
   "source": [
    "Q41.How can you create a tuple in Python?\n",
    "Ans- For eg: mytuple = (\"apple\", \"banana\", \"cherry\")\n",
    "\n"
   ]
  },
  {
   "cell_type": "code",
   "execution_count": 36,
   "id": "f645c60c",
   "metadata": {},
   "outputs": [
    {
     "ename": "AttributeError",
     "evalue": "'tuple' object has no attribute 'add'",
     "output_type": "error",
     "traceback": [
      "\u001b[1;31m---------------------------------------------------------------------------\u001b[0m",
      "\u001b[1;31mAttributeError\u001b[0m                            Traceback (most recent call last)",
      "\u001b[1;32mC:\\Users\\SAYANT~1.ADA\\AppData\\Local\\Temp/ipykernel_4016/1054883429.py\u001b[0m in \u001b[0;36m<module>\u001b[1;34m\u001b[0m\n\u001b[0;32m      2\u001b[0m \u001b[1;33m\u001b[0m\u001b[0m\n\u001b[0;32m      3\u001b[0m \u001b[0mmytuple\u001b[0m \u001b[1;33m=\u001b[0m \u001b[1;33m(\u001b[0m\u001b[1;34m\"apple\"\u001b[0m\u001b[1;33m,\u001b[0m \u001b[1;34m\"banana\"\u001b[0m\u001b[1;33m,\u001b[0m \u001b[1;34m\"cherry\"\u001b[0m\u001b[1;33m)\u001b[0m\u001b[1;33m\u001b[0m\u001b[1;33m\u001b[0m\u001b[0m\n\u001b[1;32m----> 4\u001b[1;33m \u001b[0mmytuple\u001b[0m\u001b[1;33m.\u001b[0m\u001b[0madd\u001b[0m\u001b[1;33m(\u001b[0m\u001b[1;34m\"Sayantani\"\u001b[0m\u001b[1;33m)\u001b[0m\u001b[1;33m\u001b[0m\u001b[1;33m\u001b[0m\u001b[0m\n\u001b[0m",
      "\u001b[1;31mAttributeError\u001b[0m: 'tuple' object has no attribute 'add'"
     ]
    }
   ],
   "source": [
    "#Q42. Create a tuple and try to add your name in the tuple. Are you able to do it? Support your answer with reason.\n",
    "\n",
    "mytuple = (\"apple\", \"banana\", \"cherry\")\n",
    "mytuple.add(\"Sayantani\")\n",
    "\n",
    "##You can't add anything to tuple."
   ]
  },
  {
   "cell_type": "markdown",
   "id": "10bb28b5",
   "metadata": {},
   "source": [
    "#Q43. Can two tuple be appended. If yes, write a code for it. If not, why?\n",
    "No two tuple can't be appended.Because it's mutable."
   ]
  },
  {
   "cell_type": "code",
   "execution_count": null,
   "id": "bbf00d78",
   "metadata": {},
   "outputs": [],
   "source": [
    "#Q44. Take a tuple as an input and print the count of elements in it.\n"
   ]
  },
  {
   "cell_type": "markdown",
   "id": "c9178532",
   "metadata": {},
   "source": [
    "Q45. What are sets in Python?\n",
    "\n",
    "Ans-A set is an unordered collection of items. Every set element is unique (no duplicates) and must be immutable (cannot be changed).\n",
    "\n",
    "However, a set itself is mutable. We can add or remove items from it.\n",
    "\n",
    "Sets can also be used to perform mathematical set operations like union, intersection, symmetric difference, etc."
   ]
  },
  {
   "cell_type": "markdown",
   "id": "615883cf",
   "metadata": {},
   "source": [
    "#Q46. How can you create a set?\n",
    "for eg - set1=set()"
   ]
  },
  {
   "cell_type": "code",
   "execution_count": 38,
   "id": "e2cb2f60",
   "metadata": {},
   "outputs": [
    {
     "name": "stdout",
     "output_type": "stream",
     "text": [
      "{'iNeuron'}\n",
      "<class 'set'>\n"
     ]
    }
   ],
   "source": [
    "#Q47.Create a set and add \"iNeuron\" in your set.\n",
    "\n",
    "set1=set()\n",
    "set1.add(\"iNeuron\")\n",
    "print(set1)\n",
    "print(type(set1))\n",
    "\n"
   ]
  },
  {
   "cell_type": "code",
   "execution_count": 40,
   "id": "7177df32",
   "metadata": {},
   "outputs": [
    {
     "name": "stdout",
     "output_type": "stream",
     "text": [
      "{(1, 2, 5, 6, 7)}\n"
     ]
    }
   ],
   "source": [
    "#Q48. Try to add multiple values using add() function.\n",
    "temp=(1,2,5,6,7)\n",
    "set1=set()\n",
    "set1.add(temp)\n",
    "print(set1)\n"
   ]
  },
  {
   "cell_type": "markdown",
   "id": "c5544e79",
   "metadata": {},
   "source": [
    "Q49.How is update() different from add()?\n",
    "add() add one elemt.\n",
    "update() add list,set,tuple."
   ]
  },
  {
   "cell_type": "markdown",
   "id": "a1d40e37",
   "metadata": {},
   "source": [
    "Q50. What is clear() in sets?\n",
    "Python Set clear() method removes all elements from the set.\n"
   ]
  },
  {
   "cell_type": "markdown",
   "id": "1fb96c2f",
   "metadata": {},
   "source": [
    "#Q51. What is frozen set?\n",
    "The frozenset() function returns an unchangeable frozenset object (which is like a set object, only unchangeable)"
   ]
  },
  {
   "cell_type": "markdown",
   "id": "28cef35d",
   "metadata": {},
   "source": [
    "Q52. How is frozen set different from set?\n",
    "Frozen set can't be changed\n"
   ]
  },
  {
   "cell_type": "code",
   "execution_count": 42,
   "id": "f9363297",
   "metadata": {},
   "outputs": [
    {
     "name": "stdout",
     "output_type": "stream",
     "text": [
      "{1, 2, 3, 4, 5, 6, 7, 8, 11, 12, 87}\n"
     ]
    }
   ],
   "source": [
    "#Q53. What is union() in sets? Explain via code.\n",
    "set1={1,2,2,5,6,2,4,7}\n",
    "set2={11,12,11,1,2,4,87,8,3,5}\n",
    "print(set1 | set2)"
   ]
  },
  {
   "cell_type": "code",
   "execution_count": 43,
   "id": "1923a382",
   "metadata": {},
   "outputs": [
    {
     "name": "stdout",
     "output_type": "stream",
     "text": [
      "{1, 2, 4, 5}\n"
     ]
    }
   ],
   "source": [
    "#Q54. What is intersection() in sets? Explain via code\n",
    "set1={1,2,2,5,6,2,4,7}\n",
    "set2={11,12,11,1,2,4,87,8,3,5}\n",
    "print(set1 & set2)"
   ]
  },
  {
   "cell_type": "markdown",
   "id": "c113ed27",
   "metadata": {},
   "source": [
    "#Q55. What is dictionary in Python?\n",
    "Dictionary in Python is a collection of keys values, used to store data values like a map, which, unlike other data types which hold only a single value as an element."
   ]
  },
  {
   "cell_type": "markdown",
   "id": "362b9379",
   "metadata": {},
   "source": [
    "Q56. How is dictionary different from all other data structures.\n",
    "Dictionary store data values like a map unlike other which only stores values only as a single element."
   ]
  },
  {
   "cell_type": "code",
   "execution_count": 45,
   "id": "66386c03",
   "metadata": {},
   "outputs": [
    {
     "name": "stdout",
     "output_type": "stream",
     "text": [
      "{'brand': 'Ford', 'model': 'Mustang', 'year': 1964}\n"
     ]
    }
   ],
   "source": [
    "#Q57. How can we delare a dictionary in Python?\n",
    "\n",
    "thisdict = {\n",
    "  \"brand\": \"Ford\",\n",
    "  \"model\": \"Mustang\",\n",
    "  \"year\": 1964\n",
    "}\n",
    "\n",
    "print(thisdict)"
   ]
  },
  {
   "cell_type": "code",
   "execution_count": 46,
   "id": "37698421",
   "metadata": {},
   "outputs": [
    {
     "name": "stdout",
     "output_type": "stream",
     "text": [
      "<class 'dict'>\n"
     ]
    }
   ],
   "source": [
    "#Q58. What will the output of the following?\n",
    "\n",
    "var = {}\n",
    "print(type(var))\n"
   ]
  },
  {
   "cell_type": "code",
   "execution_count": 1,
   "id": "bbfbd61f",
   "metadata": {},
   "outputs": [
    {
     "name": "stdout",
     "output_type": "stream",
     "text": [
      "{'brand': 'Ford', 'model': 'Mustang', 'year': 1964, 'owner': 'Sayantani'}\n"
     ]
    }
   ],
   "source": [
    "#Q59. How can we add an element in a dictionary?\n",
    "\n",
    "thisdict = {\n",
    "  \"brand\": \"Ford\",\n",
    "  \"model\": \"Mustang\",\n",
    "  \"year\": 1964\n",
    "}\n",
    "thisdict[\"owner\"]= \"Sayantani\"\n",
    "print(thisdict)"
   ]
  },
  {
   "cell_type": "code",
   "execution_count": 7,
   "id": "9c82fb8b",
   "metadata": {},
   "outputs": [
    {
     "name": "stdout",
     "output_type": "stream",
     "text": [
      "dict_values(['Ford', 'Mustang', 1964, 'Sayantani'])\n"
     ]
    }
   ],
   "source": [
    "#Q60. Create a dictionary and access all the values in that dictionary.\n",
    "\n",
    "thisdict={'brand': 'Ford', 'model': 'Mustang', 'year': 1964, 'owner': 'Sayantani'}\n",
    "print(thisdict.values())"
   ]
  },
  {
   "cell_type": "code",
   "execution_count": 5,
   "id": "4f726d4c",
   "metadata": {},
   "outputs": [
    {
     "name": "stdout",
     "output_type": "stream",
     "text": [
      "{1: {'name': 'John', 'age': '27', 'sex': 'Male'}, 2: {'name': 'Marie', 'age': '22', 'sex': 'Female'}}\n"
     ]
    }
   ],
   "source": [
    "#Q61. Create a nested dictionary and access all the element in the inner dictionary.\n",
    "\n",
    "people = {1: {'name': 'John', 'age': '27', 'sex': 'Male'},\n",
    "          2: {'name': 'Marie', 'age': '22', 'sex': 'Female'}}\n",
    "\n",
    "print(people)\n"
   ]
  },
  {
   "cell_type": "markdown",
   "id": "5ae1ff98",
   "metadata": {},
   "source": [
    "Q62. What is the use of get() function?\n",
    "The get() method returns the value of the item with the specified key.\n"
   ]
  },
  {
   "cell_type": "markdown",
   "id": "e9d9b47e",
   "metadata": {},
   "source": [
    "Q63. What is the use of items() function?\n",
    "Displays the whole dictionary."
   ]
  },
  {
   "cell_type": "markdown",
   "id": "9f91ea97",
   "metadata": {},
   "source": [
    "Q64. What is the use of pop() function?\n",
    "Used to remove an item from a specified location from the list."
   ]
  },
  {
   "cell_type": "markdown",
   "id": "cc6888e6",
   "metadata": {},
   "source": [
    "Q65. What is the use of popitems() function?\n",
    "Python dictionary popitem() method removes the last inserted key-value pair from the dictionary and returns it as a tuple.\n"
   ]
  },
  {
   "cell_type": "markdown",
   "id": "1f031966",
   "metadata": {},
   "source": [
    "Q66. What is the use of keys() function?\n",
    "The keys() method in Python Dictionary, returns a view object that displays a list of all the keys in the dictionary in order of insertion"
   ]
  },
  {
   "cell_type": "markdown",
   "id": "5eb774e5",
   "metadata": {},
   "source": [
    "Q67. What is the use of values() function?\n",
    "The values() method returns a view object. The view object contains the values of the dictionary, as a list.\n",
    "\n"
   ]
  },
  {
   "cell_type": "markdown",
   "id": "a833e2f3",
   "metadata": {},
   "source": [
    "Q68. What are loops in Python?\n",
    "Looping means repeating something over and over until a particular condition is satisfied."
   ]
  },
  {
   "cell_type": "markdown",
   "id": "ed7adc09",
   "metadata": {},
   "source": [
    "Q69. How many type of loop are there in Python?\n",
    "For Loop. A for loop in Python is used to iterate over a sequence (list, tuple, set, dictionary, and string). Flowchart: ...\n",
    "While Loop. The while loop is used to execute a set of statements as long as a condition is true. ...\n",
    "Nested Loop. If a loop exists inside the body of another loop, it is called a nested loop."
   ]
  },
  {
   "cell_type": "markdown",
   "id": "ee4e6714",
   "metadata": {},
   "source": [
    "q70. what is the difference between for and while loops in python\n",
    "For Loop\n",
    "\n",
    "For loop allows a programmer to execute a sequence of statements several times, it abbreviates the code which helps to manage loop variables.\n",
    "\n",
    "While loop\n",
    "\n",
    "While loop allows a programmer to repeat a single statement or a group of statements for the TRUE condition. It verifies the condition before executing the loop.\n",
    "\n"
   ]
  },
  {
   "cell_type": "markdown",
   "id": "4c01a3f6",
   "metadata": {},
   "source": [
    "#Q71. What is the use of continue statement?\n",
    "The continue keyword is used to end the current iteration in a for loop (or a while loop), and continues to the next iteration.\n",
    "\n"
   ]
  },
  {
   "cell_type": "markdown",
   "id": "969906e9",
   "metadata": {},
   "source": [
    "Q72. What is the use of break statement?\n",
    "\n",
    "Break' in Python is a loop control statement. It is used to control the sequence of the loop. Suppose you want to terminate a loop and skip to the next code after the loop; break will help you do that"
   ]
  },
  {
   "cell_type": "markdown",
   "id": "07713f1c",
   "metadata": {},
   "source": [
    "#Q73. What is the use of pass statement?\n",
    "The pass statement is a null statement which can be used as a placeholder for future code.\n"
   ]
  },
  {
   "cell_type": "markdown",
   "id": "79c487ce",
   "metadata": {},
   "source": [
    "Q74. what is the use of range() function in python\n",
    "The range() function returns a sequence of numbers, starting from 0 by default, and increments by 1 (by default), and stops before a specified number.\n"
   ]
  },
  {
   "cell_type": "markdown",
   "id": "e402fb7f",
   "metadata": {},
   "source": [
    "Q75. How can you loop over a dictionary?\n",
    "We can loop over a dictionary using a key."
   ]
  },
  {
   "cell_type": "code",
   "execution_count": 10,
   "id": "99be89f4",
   "metadata": {},
   "outputs": [
    {
     "name": "stdout",
     "output_type": "stream",
     "text": [
      "{'Sachin': 10, 'MSD': 7, 'Kohli': 18, 'Rohit': 45}\n"
     ]
    }
   ],
   "source": [
    "#Q92. Write a Python program to convert a list of tuples into dictionary.\n",
    "\n",
    "input1 =[('Sachin', 10), ('MSD', 7), ('Kohli', 18), ('Rohit', 45)]\n",
    "print(dict(input1))\n"
   ]
  },
  {
   "cell_type": "code",
   "execution_count": null,
   "id": "85293f1e",
   "metadata": {},
   "outputs": [],
   "source": [
    "#Q76.Write a Python program to find the factorial of a given number.\n",
    "number= int(input('Enter the number of which you want to find the factorial:'))\n",
    "result=1\n",
    "for i in range(1,number+1):\n",
    "    result=result*i\n",
    "print(result)"
   ]
  },
  {
   "cell_type": "code",
   "execution_count": 2,
   "id": "d689ce1b",
   "metadata": {},
   "outputs": [
    {
     "name": "stdout",
     "output_type": "stream",
     "text": [
      "Enter the principle :65000\n",
      "Enter the rate5.15\n",
      "Enter the time2\n",
      "The simple interest for the given 6695.0 \n"
     ]
    }
   ],
   "source": [
    "#Q77. Write a Python program to calculate the simple interest. Formula to calculate simple interest is SI = (PRT)/100\n",
    "\n",
    "principle= int(input('Enter the principle :'))\n",
    "rate = float(input('Enter the rate'))\n",
    "time= int(input('Enter the time'))\n",
    "simple_interest= (principle*rate*time)/100\n",
    "print(f'The simple interest for the given {simple_interest} ')"
   ]
  },
  {
   "cell_type": "code",
   "execution_count": 4,
   "id": "733bf0ce",
   "metadata": {},
   "outputs": [
    {
     "name": "stdout",
     "output_type": "stream",
     "text": [
      "Enter the principle :65000\n",
      "Enter the rate5.15\n",
      "Enter the time2\n",
      "The amount for the given principle is 71867.4 \n"
     ]
    }
   ],
   "source": [
    "#Q78. Write a Python program to calculate the compound interest. Formula of compound interest is A = P(1+ R/100)^t.\n",
    "principle= int(input('Enter the principle :'))\n",
    "rate = float(input('Enter the rate'))\n",
    "time= int(input('Enter the time'))\n",
    "amount= round(principle*((1+(rate/100))**time),2)\n",
    "print(f'The amount for the given principle is {amount} ')\n"
   ]
  },
  {
   "cell_type": "code",
   "execution_count": 5,
   "id": "425e423f",
   "metadata": {},
   "outputs": [
    {
     "name": "stdout",
     "output_type": "stream",
     "text": [
      "Enter the number :7\n",
      "Prime Number\n"
     ]
    }
   ],
   "source": [
    "#Q79. Write a Python program to check if a number is prime or not.\n",
    "number= int(input('Enter the number :'))\n",
    "for i in range(2,number):\n",
    "    if number%i ==0:\n",
    "        print('Not a prime number.')\n",
    "else:\n",
    "    print('Prime Number')"
   ]
  },
  {
   "cell_type": "code",
   "execution_count": 15,
   "id": "2d1c0bcf",
   "metadata": {},
   "outputs": [
    {
     "name": "stdout",
     "output_type": "stream",
     "text": [
      "Enter the number :153\n",
      "3\n",
      "3\n",
      "3\n",
      "81\n"
     ]
    }
   ],
   "source": [
    "#Q80. Write a Python program to check Armstrong Number.\n",
    "number= int(input('Enter the number :'))\n",
    "sum=0\n",
    "count_number= 3        \n",
    "for i in range(1,count_number+1):\n",
    "    single_digit= number%10\n",
    "    print(single_digit)\n",
    "    cube= single_digit**3\n",
    "    sum=sum+cube\n",
    "print(sum)\n"
   ]
  },
  {
   "cell_type": "code",
   "execution_count": 23,
   "id": "5ee5f300",
   "metadata": {},
   "outputs": [
    {
     "name": "stdout",
     "output_type": "stream",
     "text": [
      "Enter the number :407\n",
      "Armstrong Number:\n"
     ]
    }
   ],
   "source": [
    "\n",
    "number= int(input('Enter the number :'))\n",
    "sum=0\n",
    "temp= number\n",
    "while number>0:\n",
    "    single_digit= number%10\n",
    "    cube= single_digit**3\n",
    "    sum=sum+cube\n",
    "    number=number//10\n",
    "if temp == sum :\n",
    "    print(\"Armstrong Number:\")\n",
    "else:\n",
    "    print(\"Not an Armstrong Number:\")"
   ]
  },
  {
   "cell_type": "code",
   "execution_count": 3,
   "id": "bd728e71",
   "metadata": {},
   "outputs": [
    {
     "name": "stdout",
     "output_type": "stream",
     "text": [
      "Enter the range :5\n",
      "[0, 1, 1, 2, 3, 5, 8]\n"
     ]
    }
   ],
   "source": [
    "#Q81. Write a Python program to find the n-th Fibonacci Number\n",
    "number= int(input('Enter the range :'))\n",
    "sum=0\n",
    "list1=[]\n",
    "a=0\n",
    "b=1\n",
    "list1.append(a)\n",
    "list1.append(b)\n",
    "for i in range(0,number):\n",
    "    sum=list1[i]+list1[i+1]\n",
    "    list1.append(sum)\n",
    "print(list1)"
   ]
  },
  {
   "cell_type": "code",
   "execution_count": 6,
   "id": "4db7d5c5",
   "metadata": {},
   "outputs": [
    {
     "name": "stdout",
     "output_type": "stream",
     "text": [
      "Enter the range :5\n",
      "[5, 1, 2, 3, 4, 0]\n"
     ]
    }
   ],
   "source": [
    "#Q82. Write a Python program to interchange the first and last element in a list.\n",
    "number= int(input('Enter the range :'))\n",
    "list1=[]\n",
    "for i in range (0,number+1):\n",
    "    list1.append(i)\n",
    "a=list1[0]\n",
    "b=list1[number]\n",
    "c=a\n",
    "a=b\n",
    "b=c\n",
    "list1[0]=a\n",
    "list1[number]=b\n",
    "print(list1)"
   ]
  },
  {
   "cell_type": "code",
   "execution_count": 2,
   "id": "383e913b",
   "metadata": {},
   "outputs": [
    {
     "name": "stdout",
     "output_type": "stream",
     "text": [
      "Enter the range :6\n",
      "[0, 1, 2, 3, 4, 5, 6]\n",
      "Enter the index of the first number :3\n",
      "Enter the index of the second number :6\n",
      "[0, 1, 2, 6, 4, 5, 3]\n"
     ]
    }
   ],
   "source": [
    "#Q82. Write a Python program to interchange the first and last element in a list.\n",
    "\n",
    "number= int(input('Enter the range :'))\n",
    "\n",
    "list1=[]\n",
    "for i in range (0,number+1):\n",
    "    list1.append(i)\n",
    "print(list1)\n",
    "location1=int(input('Enter the index of the first number :'))\n",
    "location2=int(input('Enter the index of the second number :'))\n",
    "a=list1[location1]\n",
    "b=list1[location2]\n",
    "c=a\n",
    "a=b\n",
    "b=c\n",
    "list1[location1]=a\n",
    "list1[location2]=b\n",
    "print(list1)"
   ]
  },
  {
   "cell_type": "code",
   "execution_count": 6,
   "id": "5b075b1d",
   "metadata": {},
   "outputs": [
    {
     "ename": "AttributeError",
     "evalue": "'str' object has no attribute 'pop'",
     "output_type": "error",
     "traceback": [
      "\u001b[1;31m---------------------------------------------------------------------------\u001b[0m",
      "\u001b[1;31mAttributeError\u001b[0m                            Traceback (most recent call last)",
      "\u001b[1;32mC:\\Users\\SAYANT~1.ADA\\AppData\\Local\\Temp/ipykernel_7684/2998680298.py\u001b[0m in \u001b[0;36m<module>\u001b[1;34m\u001b[0m\n\u001b[0;32m      2\u001b[0m \u001b[1;33m\u001b[0m\u001b[0m\n\u001b[0;32m      3\u001b[0m \u001b[0mstring1\u001b[0m\u001b[1;33m=\u001b[0m\u001b[1;34m\"Helloo\"\u001b[0m\u001b[1;33m\u001b[0m\u001b[1;33m\u001b[0m\u001b[0m\n\u001b[1;32m----> 4\u001b[1;33m \u001b[0mstring1\u001b[0m\u001b[1;33m.\u001b[0m\u001b[0mpop\u001b[0m\u001b[1;33m(\u001b[0m\u001b[1;36m6\u001b[0m\u001b[1;33m)\u001b[0m\u001b[1;33m\u001b[0m\u001b[1;33m\u001b[0m\u001b[0m\n\u001b[0m\u001b[0;32m      5\u001b[0m \u001b[0mprint\u001b[0m\u001b[1;33m(\u001b[0m\u001b[0mstring1\u001b[0m\u001b[1;33m)\u001b[0m\u001b[1;33m\u001b[0m\u001b[1;33m\u001b[0m\u001b[0m\n",
      "\u001b[1;31mAttributeError\u001b[0m: 'str' object has no attribute 'pop'"
     ]
    }
   ],
   "source": [
    "#Q87. Write a Python program to remove i'th element from a string.\n",
    "\n",
    "string1=\"Helloo\"\n",
    "string1.replace\n",
    "print(string1)"
   ]
  },
  {
   "cell_type": "code",
   "execution_count": 1,
   "id": "a88a23c4",
   "metadata": {},
   "outputs": [
    {
     "name": "stdout",
     "output_type": "stream",
     "text": [
      "Enter the string:My name is Sayantani\n",
      "Enter the string you want to search: is\n",
      "Yes its present.\n"
     ]
    }
   ],
   "source": [
    "#Q88.Write a Python program to check if a substring is present in a given string.\n",
    "\n",
    "string1= input(\"Enter the string:\")\n",
    "substring= input(\"Enter the string you want to search: \")\n",
    "if substring in string1:\n",
    "    print(\"Yes its present.\")\n",
    "else:\n",
    "    print(\"No its not present.\")"
   ]
  },
  {
   "cell_type": "code",
   "execution_count": 5,
   "id": "6e0d3e63",
   "metadata": {},
   "outputs": [
    {
     "name": "stdout",
     "output_type": "stream",
     "text": [
      "Enter the string:my name is sayantani\n",
      "Enter the length of the string you want to compare:3\n",
      "['name', 'sayantani']\n"
     ]
    }
   ],
   "source": [
    "#Q89. Write a Python program to find words which are greater than given length k.\n",
    "string1= input(\"Enter the string:\").split()\n",
    "k=int(input('Enter the length of the string you want to compare:'))\n",
    "string2=[]\n",
    "for i in string1:\n",
    "    if len(i)>k:\n",
    "        string2.append(i)\n",
    "print(string2)\n",
    "        \n",
    "        "
   ]
  },
  {
   "cell_type": "code",
   "execution_count": null,
   "id": "8370281d",
   "metadata": {},
   "outputs": [],
   "source": [
    "#Q90. Write a Python program to extract unquire dictionary values.\n",
    "\n",
    "\n",
    "\n",
    "dict_1={}\n",
    "list1=[]\n",
    "n= int(input('Enter the number of inputs:'))\n",
    "for i in range(0,n+1):\n",
    "    name=input('Enter the name: ')\n",
    "    age= int(input('Enter the age'))\n",
    "    dict_1[name]=age\n",
    "print(dict_1)\n",
    "for key in dict_1:\n",
    "    a=dict_1[key]\n",
    "    list1.append(a)\n",
    "print(set(list1))"
   ]
  },
  {
   "cell_type": "code",
   "execution_count": 12,
   "id": "38677488",
   "metadata": {},
   "outputs": [
    {
     "name": "stdout",
     "output_type": "stream",
     "text": [
      "{1: 'a', 2: 'c', 4: 'd'}\n"
     ]
    }
   ],
   "source": [
    "#Q91. Write a Python program to merge two dictionary.\n",
    "\n",
    "dict_1 = {1: 'a', 2: 'b'}\n",
    "dict_2 = {2: 'c', 4: 'd'}\n",
    "\n",
    "print(dict_1 | dict_2)"
   ]
  },
  {
   "cell_type": "code",
   "execution_count": 1,
   "id": "2eb2fe03",
   "metadata": {},
   "outputs": [
    {
     "name": "stdout",
     "output_type": "stream",
     "text": [
      "{'Sachin': 10, 'MSD': 7, 'Kohli': 18, 'Rohit': 45}\n"
     ]
    }
   ],
   "source": [
    "#Q92. Write a Python program to convert a list of tuples into dictionary.\n",
    "\n",
    "list1= [('Sachin', 10), ('MSD', 7), ('Kohli', 18), ('Rohit', 45)]\n",
    "dict1= dict(list1)\n",
    "print(dict1)"
   ]
  },
  {
   "cell_type": "code",
   "execution_count": null,
   "id": "6e5c5efe",
   "metadata": {},
   "outputs": [],
   "source": [
    "#Q93. Write a Python program to create a list of tuples from given list having number and its cube in each tuple.\n",
    "\n",
    "list1 = [9, 5, 6]\n",
    "list2=[]\n",
    "tupple1=()\n",
    "for i in list1:\n",
    "    a=i**3\n",
    "    tupple1=(i,a)\n",
    "    list2.append(tupple1)\n",
    "print(list2)\n"
   ]
  },
  {
   "cell_type": "code",
   "execution_count": 2,
   "id": "bed33685",
   "metadata": {},
   "outputs": [
    {
     "name": "stdout",
     "output_type": "stream",
     "text": [
      "[(7, 7), (7, 8), (2, 7), (2, 8), (7, 7), (7, 2), (8, 7), (8, 2)]\n"
     ]
    }
   ],
   "source": [
    "#Q94. Write a Python program to get all combinations of 2 tuples.\n",
    "\n",
    "test_tuple1 = (7, 2)\n",
    "test_tuple2 = (7, 8)\n",
    "\n",
    "part1 =  [(a, b) for a in test_tuple1 for b in test_tuple2]\n",
    "part2 = part1 +  [(a, b) for a in test_tuple2 for b in test_tuple1]\n",
    "\n",
    "print(part2)"
   ]
  },
  {
   "cell_type": "code",
   "execution_count": null,
   "id": "8dff49e7",
   "metadata": {},
   "outputs": [],
   "source": [
    "#Q95. Write a Python program to sort a list of tuples by second item.\n",
    "\n",
    " [('for', 24), ('Geeks', 8), ('Geeks', 30)] \n",
    "Output : [('Geeks', 8), ('for', 24), ('Geeks', 30)]\n"
   ]
  },
  {
   "cell_type": "code",
   "execution_count": 4,
   "id": "a1ceb3cd",
   "metadata": {},
   "outputs": [
    {
     "name": "stdout",
     "output_type": "stream",
     "text": [
      "Enter the number of rows you need:5\n",
      "*\n",
      "**\n",
      "***\n",
      "****\n",
      "*****\n",
      "******\n"
     ]
    }
   ],
   "source": [
    "#Q96. Write a python program to print below pattern.\n",
    "\n",
    "row1= int(input('Enter the number of rows you need:'))\n",
    "for i in range(0,row1+1):\n",
    "    for j in range(0,i+1):\n",
    "        print(\"*\",end=\"\")\n",
    "    print()"
   ]
  },
  {
   "cell_type": "code",
   "execution_count": 13,
   "id": "989632fd",
   "metadata": {},
   "outputs": [
    {
     "name": "stdout",
     "output_type": "stream",
     "text": [
      "Enter the number of rows you need:5\n",
      "\n",
      "1\n",
      "12\n",
      "123\n",
      "1234\n",
      "12345\n"
     ]
    }
   ],
   "source": [
    "#Q99. Write a python program to print below pattern.\n",
    "\n",
    "row1= int(input('Enter the number of rows you need:'))\n",
    "for i in range(0,row1+1):\n",
    "    for j in range(0,i):\n",
    "        print(j+1,end=\"\")\n",
    "    print()\n"
   ]
  },
  {
   "cell_type": "code",
   "execution_count": 1,
   "id": "b0366834",
   "metadata": {},
   "outputs": [
    {
     "name": "stdout",
     "output_type": "stream",
     "text": [
      "Enter the number of rows you need:5\n",
      "\n",
      "A\n",
      "AA\n",
      "AAA\n",
      "AAAA\n",
      "AAAAA\n"
     ]
    }
   ],
   "source": [
    "#Q100. Write a python program to print below pattern.\n",
    "\n",
    "row1= int(input('Enter the number of rows you need:'))\n",
    "for i in range(0,row1+1):\n",
    "    for j in range(0,i):\n",
    "        print(\"A\",end=\"\")\n",
    "    print()\n",
    "\n"
   ]
  },
  {
   "cell_type": "code",
   "execution_count": 7,
   "id": "cb40b73c",
   "metadata": {},
   "outputs": [
    {
     "name": "stdout",
     "output_type": "stream",
     "text": [
      "     \n",
      "    *\n",
      "   **\n",
      "  ***\n",
      " ****\n",
      "*****\n"
     ]
    }
   ],
   "source": [
    "#Q97. Write a python program to print below pattern.\n",
    "n=5;i=0\n",
    "while(i<=n):\n",
    "  print(\" \" * (n - i) +\"*\" * i)\n",
    "  i+=1\n"
   ]
  },
  {
   "cell_type": "code",
   "execution_count": 10,
   "id": "22143524",
   "metadata": {},
   "outputs": [
    {
     "name": "stdout",
     "output_type": "stream",
     "text": [
      "    * \r\n",
      "   * * \r\n",
      "  * * * \r\n",
      " * * * * \r\n",
      "* * * * * \r\n"
     ]
    }
   ],
   "source": [
    "#Q. Write a python program to print below pattern.\n",
    "def triangle(n):\n",
    "\n",
    "k = n - 1\n",
    "for i in range(0, n):\n",
    "\n",
    "for j in range(0, k):\n",
    "    print(end=\" \")\n",
    "    k = k - 1\n",
    "\n",
    "for j in range(0, i+1):\n",
    "\n",
    "    print(\"* \", end=\"\")\n",
    "    print(\"\\r\")\n",
    "\n",
    "\n",
    "n = 5\n",
    "triangle(n)\n"
   ]
  },
  {
   "cell_type": "code",
   "execution_count": 11,
   "id": "5407748c",
   "metadata": {},
   "outputs": [
    {
     "name": "stdout",
     "output_type": "stream",
     "text": [
      "Enter the number of alphabets you want to print:4\n",
      "A\n",
      "BB\n",
      "CCC\n",
      "DDDD\n"
     ]
    }
   ],
   "source": [
    "#Q100. Write a python program to print below pattern.\n",
    "\n",
    "n = int(input('Enter the number of alphabets you want to print:'))\n",
    "a=chr(65)\n",
    "for i in range(n):\n",
    "    for j in range(i+1):\n",
    "        print(a, end=\"\")\n",
    "    a=chr(ord(a)+1)\n",
    "    print()"
   ]
  },
  {
   "cell_type": "code",
   "execution_count": null,
   "id": "f97c0e3f",
   "metadata": {},
   "outputs": [],
   "source": []
  }
 ],
 "metadata": {
  "kernelspec": {
   "display_name": "Python 3 (ipykernel)",
   "language": "python",
   "name": "python3"
  },
  "language_info": {
   "codemirror_mode": {
    "name": "ipython",
    "version": 3
   },
   "file_extension": ".py",
   "mimetype": "text/x-python",
   "name": "python",
   "nbconvert_exporter": "python",
   "pygments_lexer": "ipython3",
   "version": "3.10.0"
  }
 },
 "nbformat": 4,
 "nbformat_minor": 5
}
